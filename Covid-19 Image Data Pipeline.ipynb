{
 "cells": [
  {
   "cell_type": "code",
   "execution_count": 3,
   "metadata": {},
   "outputs": [
    {
     "name": "stdout",
     "output_type": "stream",
     "text": [
      "We retrieved  797 images.\n"
     ]
    }
   ],
   "source": [
    "from bs4 import BeautifulSoup\n",
    "import re\n",
    "import requests\n",
    "import shutil\n",
    "\n",
    "# url of whatever online repositry exists\n",
    "url = \"https://github.com/ieee8023/covid-chestxray-dataset/tree/master/images\"\n",
    "\n",
    "#This checks to see if the website is availiable - a 200 request means it was sucessful, a 404 means it wasn't\n",
    "response = requests.get(url)\n",
    "\n",
    "# this gets the entire code of the html document\n",
    "soup = BeautifulSoup(response.text, \"html.parser\")\n",
    "\n",
    "#this filters out certain elements of the page\n",
    "tags = soup.find_all(href=re.compile(\"/ieee8023/covid-chestxray-dataset/blob/master/images/\"))\n",
    "\n",
    "links = (set(tag['href'] for tag in tags))\n",
    "print(\"We retrieved \", len(links), \"images.\")\n",
    "\n",
    "links_list = []\n",
    "semi_final_list = []\n",
    "names_list = []\n",
    "i = 0\n",
    "\n",
    "# this rearranges the url to select to correct images\n",
    "for x in links:  \n",
    "    links_list.append(x)\n",
    "    a = (links_list[i])[0:33]\n",
    "    b = (links_list[i])[38:]\n",
    "    c = a + b\n",
    "    semi_final_list.append(c)\n",
    "    names_list.append(\"Image \" + str(i+1))\n",
    "    i = i+1\n",
    "\n",
    "# this configures the correct url\n",
    "links_final = []\n",
    "for i in range(len(names_list)):\n",
    "    links_final.append(\"https://raw.githubusercontent.com\" + str(semi_final_list[i]))\n",
    "\n",
    "# this downloads the images into a folder\n",
    "for i in range(len(names_list)):\n",
    "    response = requests.get(links_final[i], stream=True)\n",
    "    file = open(\"/Users/joshuastapleton/Desktop/Download_Covid/\" + str(names_list[i]) + \".jpeg\", 'wb')\n",
    "    response.raw.decode_content = True\n",
    "    shutil.copyfileobj(response.raw, file)"
   ]
  },
  {
   "cell_type": "code",
   "execution_count": null,
   "metadata": {},
   "outputs": [],
   "source": []
  }
 ],
 "metadata": {
  "kernelspec": {
   "display_name": "Python 3",
   "language": "python",
   "name": "python3"
  },
  "language_info": {
   "codemirror_mode": {
    "name": "ipython",
    "version": 3
   },
   "file_extension": ".py",
   "mimetype": "text/x-python",
   "name": "python",
   "nbconvert_exporter": "python",
   "pygments_lexer": "ipython3",
   "version": "3.7.6"
  }
 },
 "nbformat": 4,
 "nbformat_minor": 4
}
